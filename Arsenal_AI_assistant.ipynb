{
 "cells": [
  {
   "cell_type": "code",
   "execution_count": 1,
   "metadata": {},
   "outputs": [
    {
     "name": "stderr",
     "output_type": "stream",
     "text": [
      "c:\\Users\\manud\\AppData\\Local\\Programs\\Python\\Python311\\Lib\\site-packages\\tqdm\\auto.py:21: TqdmWarning: IProgress not found. Please update jupyter and ipywidgets. See https://ipywidgets.readthedocs.io/en/stable/user_install.html\n",
      "  from .autonotebook import tqdm as notebook_tqdm\n"
     ]
    }
   ],
   "source": [
    "from typing import List, Dict\n",
    "import numpy as np\n",
    "import pandas as pd\n",
    "from sentence_transformers import SentenceTransformer\n"
   ]
  },
  {
   "cell_type": "code",
   "execution_count": 2,
   "metadata": {},
   "outputs": [
    {
     "data": {
      "text/plain": [
       "(31528, 39)"
      ]
     },
     "execution_count": 2,
     "metadata": {},
     "output_type": "execute_result"
    }
   ],
   "source": [
    "## test su come rappresentare i dati \n",
    "arsenal_df = pd.read_csv(\"arsenal_events.csv\")\n",
    "arsenal_df.shape"
   ]
  },
  {
   "cell_type": "markdown",
   "metadata": {},
   "source": [
    "## test su un matcg"
   ]
  },
  {
   "cell_type": "code",
   "execution_count": 3,
   "metadata": {},
   "outputs": [
    {
     "data": {
      "text/plain": [
       "(872, 39)"
      ]
     },
     "execution_count": 3,
     "metadata": {},
     "output_type": "execute_result"
    }
   ],
   "source": [
    "first_match = arsenal_df.loc[arsenal_df[\"match_id\"]==\"MATCH_1\", :]\n",
    "first_match.columns\n",
    "first_match.shape"
   ]
  },
  {
   "cell_type": "code",
   "execution_count": null,
   "metadata": {},
   "outputs": [],
   "source": [
    "## obiettivo dell'utilizzo di LLM: \n",
    "## 1 ottenere informazioni difficilemente ottenibili dal codice\n",
    "##  cosa è mancato in questa partita\n",
    "##  in quali reparti la squadra è carente \n",
    "## che caratteristiche deve avere un nuovo attaccante ==> input per un nuovo agente con info storiche su calciatori (es tocchi per partita, distanza percorsa, precisione passaggi)\n",
    "## con queste caratteristiche in che posizione potrebbe posizionarsi in campionato la squadra? \n",
    "\n",
    "## cambiare istouch da true a isTouch, \n",
    "## type value potrebbe essere un valore per il tipo di evento\n",
    "## nuova colonna nome evento + type_value + successfull/unsuccsefful, es pass_35_successfull\n",
    "\n",
    "## righe simile alla struttura di un KG. \n",
    "## es Aubameyanj [position] - pass_35_successfull at minute 38 from position x,y, to position endx,endy. IsGoal/isShot/isPass/isOwnGoal .Match number\n",
    "\n",
    "## system prompt:\n",
    "## you are a football mathch analyst expert helping finding key insights from matches events. \n",
    "# Your input are strings representing match events in the form: player position - event, associated value, event outcome, minute, position on field. Event details . MAtch number"
   ]
  },
  {
   "cell_type": "markdown",
   "metadata": {},
   "source": [
    "### pulizia del dataset"
   ]
  },
  {
   "cell_type": "code",
   "execution_count": 14,
   "metadata": {},
   "outputs": [],
   "source": [
    "from openai import OpenAI\n",
    "client = OpenAI(\n",
    "    api_key=\"LA-1682cbcbdb7748bb8687efd29bbeb27af57f29735bc846c3abe5f79f82f8eab1\",\n",
    "    base_url=\"https://api.llama-api.com\"\n",
    ")\n",
    "\n",
    "def api_llm_function(prompt):\n",
    "    response = client.chat.completions.create(\n",
    "        model=\"llama3.3-70b\",  \n",
    "        messages=[\n",
    "            {\"role\": \"system\", \"content\": \"You are a football match analysis expert. Help extracting insights from events of Arsenal matches.\"},\n",
    "            {\"role\": \"user\", \"content\": prompt}\n",
    "            ],\n",
    "            timeout=None\n",
    "    )\n",
    "    return response.choices[0].message.content\n"
   ]
  },
  {
   "cell_type": "markdown",
   "metadata": {},
   "source": [
    "## costruzione classe con tutte le funzioni"
   ]
  },
  {
   "cell_type": "code",
   "execution_count": null,
   "metadata": {},
   "outputs": [],
   "source": []
  },
  {
   "cell_type": "code",
   "execution_count": null,
   "metadata": {},
   "outputs": [],
   "source": [
    "from faiss import write_index, read_index\n",
    "import  os\n",
    "class EventRAG:\n",
    "    def __init__(self, embedding_model: str = \"all-MiniLM-L6-v2\",similarity_metric=\"Euclidean\"):\n",
    "        self.encoder = SentenceTransformer(embedding_model)\n",
    "        self.df = None\n",
    "        self.embeddings = None\n",
    "        self.similarity_metric = similarity_metric\n",
    "        \n",
    "    def clean_dataset_RAG(self,data):\n",
    "    ## colonne da droppare\n",
    "        data = data.drop([\"id\",\"eventId\",\"minute\",\"qualifiers\",\"blockedX\",\"relatedPlayerId\",\"satisfiedEventsTypes\",\"playerId\",\"period_value\", \"type_value\",\"goalMouthZ\", 'goalMouthY','blockedY', 'cardType_value', 'cardType_displayName','shirtNo',\"isGoal_bin\",\"isOwnGoal_bin\"],axis=1)\n",
    "        data = data.drop(columns=[col for col in data.columns if \"Unnamed\" in col])\n",
    "        data[\"isGoal\"] = data[\"isGoal\"].apply(lambda x: \"is a goal\" if x is True else x)\n",
    "        data[\"isOwnGoal\"] = data[\"isGoal\"].apply(lambda x: \"is own goal\" if x is True else x)\n",
    "\n",
    "        data = data.loc[data[\"type_displayName\"] != \"Start\"]\n",
    "        self.df = data\n",
    "        \n",
    "        \n",
    "    def create_event_context(self,row):\n",
    "        to_add = \"\"\n",
    "        if pd.notna(row[\"isOwnGoal\"]):\n",
    "            to_add = \"This \" + row[\"isOwnGoal\"]\n",
    "        elif pd.notna(row[\"isGoal\"]):\n",
    "            to_add = \"This \" + row[\"isGoal\"]\n",
    "\n",
    "        string_model = f'in {row[\"match_id\"]} at minute {row[\"expandedMinute\"]}:{row[\"second\"]} the player {row[\"name\"]} in position {row[\"position\"]} made {row[\"outcomeType_displayName\"]} {row[\"type_displayName\"]} from position x = {row[\"x\"]},y = {row[\"y\"]} to position x = {row[\"endX\"]},y={row[\"endY\"]}.{to_add} '\n",
    "        return string_model\n",
    "    \n",
    "    def get_embeddings(self):\n",
    "        event_contexts = [self.create_event_context(row) for _, row in self.df.iterrows()]\n",
    "        print(\"obtained textual context\")\n",
    "        # print(event_contexts)\n",
    "        self.embeddings =  self.encoder.encode(event_contexts)\n",
    "        print(\"obtained embeddings\")\n",
    "\n",
    "    def create_vector_db(self):\n",
    "        dimension = self.embeddings.shape[1]  # Dimension of embeddings\n",
    "        if self.similarity_metric == \"Euclidean\":\n",
    "            self.index = faiss.IndexFlatL2(dimension)  ## L2 Distance => Distanza Euclidea \n",
    "            self.index.add(self.embeddings)\n",
    "            print(\"created vector_db\")\n",
    "            faiss.write_index(self.index, \"match_index_faiss.idx\")\n",
    "        elif self.similarity_metric == \"Cosine\":\n",
    "            self.index = faiss.IndexFlatIP(dimension)  ## L2 Distance => Distanza Euclidea \n",
    "            self.index.add(self.embeddings)\n",
    "            print(\"created vector_db\")\n",
    "            faiss.write_index(self.index, \"Cosine_match_index_faiss.idx\")\n",
    "         \n",
    "\n",
    "    def retrieve_similar_events(self,user_query, top_k=5,force_rebuid=False):\n",
    "\n",
    "        \n",
    "        ## check se esiste vector db\n",
    "        if force_rebuid:\n",
    "            self.create_vector_db()\n",
    "        vector_file = [file for file,idx in zip(os.listdir(),[\".idx\" in i for i in os.listdir()]) if idx]\n",
    "        vector_file = [file for file in vector_file if str(self.similarity_metric) in file]\n",
    "\n",
    "        if vector_file:\n",
    "            print(\"found existing index: \", vector_file)\n",
    "            if len(vector_file) > 1:\n",
    "                print(\"warning: found two existing indexes. Using this one: \", vector_file[0])\n",
    "            self.index = faiss.read_index(vector_file[0])\n",
    "            print(\"loaded existing index\")\n",
    "        else:\n",
    "            print(\"creating new index\")\n",
    "            self.create_vector_db()\n",
    "            \n",
    "            \n",
    "\n",
    "        query_embedding = self.encoder.encode([user_query], convert_to_numpy=True)\n",
    "        print(\"embedded query\")\n",
    "        # Search for closest matches in FAISS\n",
    "        distances, indices = self.index.search(query_embedding, top_k)\n",
    "        # print(\"Distances, \", distances, \"\\n indices\", indices[0])\n",
    "        # results = df.iloc[indices[0]]\n",
    "        # return results[[\"text_description\", \"minute\", \"player\", \"event_type\"]]\n",
    "        relevant_events = []\n",
    "        for idx in indices[0]:\n",
    "            event_data = self.df.iloc[idx].to_dict()\n",
    "            relevant_events.append({\n",
    "                'event_data': event_data,\n",
    "                'event_context': self.create_event_context(self.df.iloc[idx])\n",
    "            })\n",
    "                \n",
    "        return relevant_events\n",
    "\n",
    "    def generate_response(self,query: str, llm_function,top_k=5, similarity_metric = \"Euclidean\",force_rebuild = False) -> str:\n",
    "        \"\"\"\n",
    "        Generate a response using the LLM with retrieved context\n",
    "        \n",
    "        Parameters:\n",
    "        - query: User query\n",
    "        - llm_function: Function that takes a prompt and returns LLM response\n",
    "        - top_k: Number of relevant events to retrieve\n",
    "        \"\"\"\n",
    "        # Retrieve relevant events\n",
    "        if similarity_metric:\n",
    "            self.similarity_metric = similarity_metric\n",
    "        relevant_events = self.retrieve_similar_events(query, top_k,force_rebuid=force_rebuild)\n",
    "        context_str = \"\"\n",
    "        for idx, event in enumerate(relevant_events, 1): ## 1 = start enumerating from 1\n",
    "            # context_str += f\"\\n{idx}. Event Details:\\n\"\n",
    "            context_str += event['event_context'] + \"\\n\"\n",
    "        # print(\"context str= \", context_str)\n",
    "        # # Create prompt with context\n",
    "        prompt = f\"\"\"Considering these match events:\n",
    "                    {context_str}\n",
    "\n",
    "                    Question: {query}.\"\"\"\n",
    "        \n",
    "        return llm_function(prompt)\n",
    "\n",
    "    def add_new_event(self, event_data: Dict):\n",
    "        \"\"\"\n",
    "        Add a new event to the dataset and update embeddings\n",
    "        \n",
    "        Parameters:\n",
    "        - event_data: Dictionary containing event information matching CSV columns\n",
    "        \"\"\"\n",
    "        # Add new event to dataframe\n",
    "        new_row = pd.DataFrame([event_data])\n",
    "        self.df = pd.concat([self.df, new_row], ignore_index=True)\n",
    "        \n",
    "        # Update embeddings\n",
    "        new_context = self.create_event_context(pd.Series(event_data))\n",
    "        new_embedding = self.encoder.encode([new_context])\n",
    "        \n",
    "        if self.embeddings is None:\n",
    "            self.embeddings = new_embedding\n",
    "        else:\n",
    "            self.embeddings = np.vstack([self.embeddings, new_embedding])"
   ]
  },
  {
   "cell_type": "code",
   "execution_count": null,
   "metadata": {},
   "outputs": [
    {
     "name": "stdout",
     "output_type": "stream",
     "text": [
      "obtained textual context\n",
      "obtained embeddings\n"
     ]
    }
   ],
   "source": [
    "import faiss\n",
    "rag = EventRAG()\n",
    "\n",
    "# Load your CSV data\n",
    "# first_match\n",
    "rag.clean_dataset_RAG(first_match)\n",
    "\n",
    "# Compute embeddings for all events\n",
    "rag.get_embeddings()\n"
   ]
  },
  {
   "cell_type": "code",
   "execution_count": null,
   "metadata": {},
   "outputs": [
    {
     "name": "stdout",
     "output_type": "stream",
     "text": [
      "created vector_db\n"
     ]
    }
   ],
   "source": [
    "response = rag.generate_response(\n",
    "    \"Who was a key player in this match?\",\n",
    "    api_llm_function\n",
    ")"
   ]
  },
  {
   "cell_type": "code",
   "execution_count": null,
   "metadata": {},
   "outputs": [
    {
     "name": "stdout",
     "output_type": "stream",
     "text": [
      "Based on the provided match events, it appears that Mohamed Elneny was a key player in this match. He made multiple successful passes throughout the game, showcasing his involvement and contribution to the team's performance.\n",
      "\n",
      "Here are some insights that support this conclusion:\n",
      "\n",
      "1. **Frequency of successful passes**: Mohamed Elneny made 5 successful passes in the match, which indicates that he was actively participating in the game and creating opportunities for his team.\n",
      "2. **Variety of passing locations**: The passes were made from different locations on the field, such as x = 24.3, 46.9, 37.3, 62.2, and 32.3, which suggests that Elneny was moving around the field and adapting to different situations.\n",
      "3. **Consistency of passing**: The successful passes were made at different times during the match, including in the 62nd, 68th, and 92nd minutes, which indicates that Elneny was consistent in his performance throughout the game.\n",
      "\n",
      "Overall, based on the data, Mohamed Elneny appears to have been a key player in this match, demonstrating his ability to create scoring opportunities and control the tempo of the game.\n"
     ]
    }
   ],
   "source": [
    "print(response)"
   ]
  },
  {
   "cell_type": "code",
   "execution_count": null,
   "metadata": {},
   "outputs": [
    {
     "name": "stdout",
     "output_type": "stream",
     "text": [
      "found existing index:  ['match_index_faiss.idx']\n",
      "loaded existing index\n"
     ]
    }
   ],
   "source": [
    "response = rag.generate_response(\n",
    "    \"Based on this performances. What could be a possible lineup for the next match?\",\n",
    "    api_llm_function\n",
    ")"
   ]
  },
  {
   "cell_type": "code",
   "execution_count": null,
   "metadata": {},
   "outputs": [
    {
     "name": "stdout",
     "output_type": "stream",
     "text": [
      "Based on the provided match events, we can extract some insights about the players' performances:\n",
      "\n",
      "1. **Alexandre Lacazette**:\n",
      "\t* He played as a Forward (FW) and was involved in multiple successful passes and clearances.\n",
      "\t* His passing range is quite diverse, with successful passes from different areas of the pitch (e.g., x = 87.8, y = 41.7 to x = 85.3, y = 46.6, and x = 33.6, y = 34.9 to x = 22.8, y = 46.0).\n",
      "\t* He also made a successful clearance from a relatively advanced position (x = 6.6, y = 43.7 to x = 20.2, y = 73.2), indicating his willingness to track back and defend.\n",
      "2. **Ainsley Maitland-Niles**:\n",
      "\t* He played as a Defensive Midfielder/Left Midfielder (DML) and made a successful clearance from a relatively deep position (x = 18.7, y = 93.6 to x = 19.3, y = 96.0).\n",
      "\t* This suggests that he is comfortable playing in a deeper role and is capable of making defensive contributions.\n",
      "\n",
      "Considering these insights, a possible lineup for the next match could be:\n",
      "\n",
      "* **Formation:** 4-2-3-1 or 4-3-3, with Lacazette as the central striker or one of the attacking midfielders.\n",
      "* **Lacazette's role:** He could play as a False 9 or a Deep-Lying Forward, allowing him to drop deep and create space for other attackers to make runs.\n",
      "* **Maitland-Niles' role:** He could play as a Left Midfielder or Left Wing-Back, providing defensive cover and supporting the team's attacks down the left flank.\n",
      "* **Other positions:** The remaining positions could be filled by other players who complement Lacazette's and Maitland-Niles' skills, such as:\n",
      "\t+ A defensive midfielder to partner with Maitland-Niles.\n",
      "\t+ A creative attacking midfielder to play behind Lacazette.\n",
      "\t+ Wingers who can provide width and deliver crosses into the box.\n",
      "\t+ A solid defense to protect the goal and allow the team to build from the back.\n",
      "\n",
      "Example lineup:\n",
      "\n",
      "4-2-3-1:\n",
      "* Lacazette (ST)\n",
      "* Maitland-Niles (LM)\n",
      "* Defensive Midfielder (DM)\n",
      "* Creative Attacking Midfielder (AM)\n",
      "* Winger (RW)\n",
      "* Winger (LW)\n",
      "* Center Backs (CB)\n",
      "* Full Backs (FB)\n",
      "\n",
      "Note that this is just one possible interpretation of the data, and the actual lineup will depend on various factors, including the team's overall strategy, player availability, and the opponent's strengths and weaknesses.\n"
     ]
    }
   ],
   "source": [
    "print(response)"
   ]
  },
  {
   "cell_type": "code",
   "execution_count": null,
   "metadata": {},
   "outputs": [
    {
     "name": "stdout",
     "output_type": "stream",
     "text": [
      "found existing index:  ['match_index_faiss.idx']\n",
      "loaded existing index\n"
     ]
    }
   ],
   "source": [
    "response = rag.generate_response(\n",
    "    \"Based on thperformances. What could be a possible lineup for the next match?\",\n",
    "    api_llm_function,\n",
    "    top_k=20\n",
    ")"
   ]
  },
  {
   "cell_type": "code",
   "execution_count": null,
   "metadata": {},
   "outputs": [
    {
     "name": "stdout",
     "output_type": "stream",
     "text": [
      "Based on the performance of Alexandre Lacazette in MATCH_1, here are some insights that could inform the lineup for the next match:\n",
      "\n",
      "1. **Lacazette's work rate**: Lacazette was involved in 20 events throughout the match, indicating a high level of activity and work rate. This suggests that he could be a key player in the next match.\n",
      "2. **Passing ability**: Lacazette completed 12 successful passes out of 17 attempts, which is a passing accuracy of 70.6%. This is a respectable passing accuracy, especially considering that he played as a forward.\n",
      "3. **Clearance ability**: Lacazette made 1 successful clearance, which suggests that he is capable of defending and winning the ball back for his team.\n",
      "4. **Positioning**: Lacazette's events were spread across the pitch, but he tended to operate in the attacking third, with many of his passes and clearances originating from the right and left wings.\n",
      "\n",
      "Considering these insights, here is a possible lineup for the next match:\n",
      "\n",
      "* **Formation**: 4-2-3-1 or 4-3-3, with Lacazette as the central striker or one of the wide forwards.\n",
      "* **Lacazette's role**: Lacazette could play as a central striker, using his passing ability to bring others into play and his work rate to press the opposition defense. Alternatively, he could play as a wide forward, using his pace and agility to beat opponents and deliver crosses into the box.\n",
      "* **Supporting players**: The lineup could include players who complement Lacazette's skills, such as:\n",
      "\t+ A creative midfielder who can provide through balls and passes to Lacazette.\n",
      "\t+ A pacey winger who can stretch the opposition defense and provide width.\n",
      "\t+ A defensive midfielder who can provide cover and protection for the defense, allowing Lacazette to focus on attacking.\n",
      "\n",
      "Example lineup:\n",
      "\n",
      "* 4-2-3-1:\n",
      "\t+ Lacazette (ST)\n",
      "\t+ Creative midfielder (e.g. Mesut Ozil) (CAM)\n",
      "\t+ Pacey winger (e.g. Nicolas Pepe) (RW)\n",
      "\t+ Defensive midfielder (e.g. Granit Xhaka) (DM)\n",
      "\t+ Central midfielder (e.g. Lucas Torreira) (CM)\n",
      "\t+ Left back (e.g. Kieran Tierney) (LB)\n",
      "\t+ Center back (e.g. David Luiz) (CB)\n",
      "\t+ Center back (e.g. Sokratis Papastathopoulos) (CB)\n",
      "\t+ Right back (e.g. Hector Bellerin) (RB)\n",
      "* 4-3-3:\n",
      "\t+ Lacazette (LW)\n",
      "\t+ Creative midfielder (e.g. Mesut Ozil) (CAM)\n",
      "\t+ Pacey winger (e.g. Nicolas Pepe) (RW)\n",
      "\t+ Central midfielder (e.g. Lucas Torreira) (CM)\n",
      "\t+ Defensive midfielder (e.g. Granit Xhaka) (DM)\n",
      "\t+ Left back (e.g. Kieran Tierney) (LB)\n",
      "\t+ Center back (e.g. David Luiz) (CB)\n",
      "\t+ Center back (e.g. Sokratis Papastathopoulos) (CB)\n",
      "\t+ Right back (e.g. Hector Bellerin) (RB)\n",
      "\n",
      "Note that this is just one possible lineup, and the actual lineup will depend on various factors, including the team's overall strategy, the opposition, and the availability of players.\n"
     ]
    }
   ],
   "source": [
    "print(response)"
   ]
  },
  {
   "cell_type": "code",
   "execution_count": null,
   "metadata": {},
   "outputs": [
    {
     "name": "stdout",
     "output_type": "stream",
     "text": [
      "found existing index:  ['match_index_faiss.idx']\n",
      "loaded existing index\n"
     ]
    }
   ],
   "source": [
    "response = rag.generate_response(\n",
    "    \"What has been lacking in this match? In which areas the team coul be improved?\",\n",
    "    api_llm_function,\n",
    "    top_k=50\n",
    ")"
   ]
  },
  {
   "cell_type": "code",
   "execution_count": null,
   "metadata": {},
   "outputs": [
    {
     "name": "stdout",
     "output_type": "stream",
     "text": [
      "Based on the provided match events, here are some insights and potential areas for improvement:\n",
      "\n",
      "1. **Finishing and Goal Scoring**: Although Alexandre Lacazette scored a goal, there were several instances of unsuccessful shots (e.g., minute 79:34), missed opportunities, and unsuccessful passes in the final third. Improving finishing and goal-scoring abilities could be an area of focus.\n",
      "2. **Passing Accuracy**: There were several instances of unsuccessful passes, especially in the attacking third (e.g., minutes 50:0, 54:35, 84:22). Working on improving passing accuracy, particularly in critical areas of the pitch, could help create more scoring opportunities.\n",
      "3. **Aerial Duels**: The team struggled with aerial duels, as evidenced by unsuccessful aerials (e.g., minutes 53:56, 90:48). Improving aerial ability and winning headers could be an area for improvement.\n",
      "4. **Defensive Solidity**: Although the team had some successful clearances and tackles, there were instances of unsuccessful challenges (e.g., minutes 5:27, 67:19) and fouls conceded (e.g., minutes 3:40, 71:46). Strengthening defensive solidity and reducing fouls conceded could help prevent opposition scoring opportunities.\n",
      "5. **Transition and Counter-Attacks**: The team had some successful passes and ball recoveries, but there were also instances of unsuccessful transitions (e.g., minutes 68:48, 92:42). Improving transition play and counter-attacks could help catch the opposition off guard and create more scoring opportunities.\n",
      "6. **Wide Play and Crossing**: The team had some successful passes down the wings, but there were limited instances of successful crosses or deliveries into the box. Improving wide play and crossing ability could help create more scoring opportunities.\n",
      "7. **Set Pieces**: Although the team had some successful corners and free kicks, there were also instances of unsuccessful set pieces (e.g., minute 46:5). Improving set piece delivery and execution could be an area for improvement.\n",
      "\n",
      "To address these areas, the team could focus on:\n",
      "\n",
      "* Practicing finishing and goal-scoring drills to improve accuracy and confidence in front of goal.\n",
      "* Working on passing drills to improve accuracy and completion rates, particularly in critical areas of the pitch.\n",
      "* Incorporating aerial training to improve heading ability and winning aerial duels.\n",
      "* Defensively, focusing on improving tackling, blocking, and interception techniques to reduce fouls conceded and improve overall solidity.\n",
      "* Developing transition play and counter-attacking strategies to catch the opposition off guard and create more scoring opportunities.\n",
      "* Improving wide play and crossing ability through drills and small-sided games.\n",
      "* Practicing set piece delivery and execution to improve conversion rates and create more scoring opportunities.\n",
      "\n",
      "By addressing these areas, the team can work on improving their overall performance and increasing their chances of winning matches.\n"
     ]
    }
   ],
   "source": [
    "print(response)"
   ]
  },
  {
   "cell_type": "code",
   "execution_count": null,
   "metadata": {},
   "outputs": [
    {
     "name": "stdout",
     "output_type": "stream",
     "text": [
      "creating new index\n",
      "created vector_db\n",
      "embedded query\n"
     ]
    }
   ],
   "source": [
    "response = rag.generate_response(\n",
    "    \"Based on these performances. What could be a possible lineup for the next match?\",\n",
    "    api_llm_function,\n",
    "    top_k=50,\n",
    "    similarity_metric=\"Cosine\"\n",
    ")"
   ]
  },
  {
   "cell_type": "code",
   "execution_count": null,
   "metadata": {},
   "outputs": [
    {
     "name": "stdout",
     "output_type": "stream",
     "text": [
      "Based on the provided match events, here's a possible lineup for the next match:\n",
      "\n",
      "**Formation:** 4-2-3-1\n",
      "\n",
      "**Starting XI:**\n",
      "\n",
      "1. **Goalkeeper:** Not specified in the provided events, but assuming the goalkeeper remains the same.\n",
      "2. **Defenders:**\n",
      "\t* **Left Back:** Ainsley Maitland-Niles (DML) - Had a successful pass and clearance, showing his defensive capabilities.\n",
      "\t* **Center Backs:**\n",
      "\t\t+ Gabriel Magalhães (DC) - Made multiple successful clearances, demonstrating his defensive skills.\n",
      "\t\t+ (Assuming another center back, not specified in the events)\n",
      "\t* **Right Back:** Not specified in the provided events, but assuming a suitable player fills this position.\n",
      "3. **Midfielders:**\n",
      "\t* **Defensive Midfielders:**\n",
      "\t\t+ Mohamed Elneny (MC) - Had an impressive game with multiple successful passes, showing his ability to control the tempo of the game.\n",
      "\t\t+ (Assuming another defensive midfielder, not specified in the events)\n",
      "\t* **Attacking Midfielders:**\n",
      "\t\t+ (Assuming suitable players fill these positions, not specified in the events)\n",
      "4. **Forwards:**\n",
      "\t* **Striker:** Alexandre Lacazette (FW) - Despite some unsuccessful passes and challenges, he had a decent game with successful clearances, passes, and a tackle.\n",
      "\n",
      "**Bench:**\n",
      "\n",
      "* Nicolas Pépé (Sub) - Had some unsuccessful passes, but could be an option for a substitution.\n",
      "* Eddie Nketiah (Sub) - Made a successful pass, showing his potential as a substitute.\n",
      "\n",
      "This lineup is based on the performances of the players in the provided match events. However, the actual lineup may vary depending on factors like team strategy, player availability, and the opponent's strengths and weaknesses.\n"
     ]
    }
   ],
   "source": [
    "print(response)"
   ]
  },
  {
   "cell_type": "code",
   "execution_count": null,
   "metadata": {},
   "outputs": [
    {
     "name": "stdout",
     "output_type": "stream",
     "text": [
      "found existing index:  ['Cosine_match_index_faiss.idx']\n",
      "loaded existing index\n",
      "embedded query\n"
     ]
    }
   ],
   "source": [
    "response = rag.generate_response(\n",
    "    \"What has been lacking in this match? In which areas the team could be improved?\",\n",
    "    api_llm_function,\n",
    "    top_k=200,\n",
    "    similarity_metric=\"Cosine\"\n",
    ")"
   ]
  },
  {
   "cell_type": "code",
   "execution_count": null,
   "metadata": {},
   "outputs": [
    {
     "name": "stdout",
     "output_type": "stream",
     "text": [
      "Based on the provided match events, here are some insights and potential areas for improvement:\n",
      "\n",
      "1. **Finishing and Goal Scoring**: Although there are several successful passes, tackles, and ball recoveries, the team only scored two goals (one from Alexandre Lacazette and one from Gabriel Magalhães). This suggests that the team might be struggling with converting chances into goals. Improving finishing and goal-scoring abilities could be an area of focus.\n",
      "2. **Passing Accuracy**: There are several instances of unsuccessful passes, which could indicate a lack of precision and accuracy in the team's passing game. Working on improving passing accuracy, especially in the final third, could help create more scoring opportunities.\n",
      "3. **Defensive Vulnerabilities**: Although the team has made several successful clearances and tackles, there are also instances of unsuccessful tackles and passes that could have led to opposition counter-attacks. Strengthening the defense and reducing vulnerabilities could be an area for improvement.\n",
      "4. **Set Piece Efficiency**: The team has been awarded several corners, but there is no indication of scoring from these set pieces. Improving set piece efficiency, such as corner kicks and free kicks, could provide an additional source of goals.\n",
      "5. **Midfield Control**: The team's midfielders, such as Mohamed Elneny, have made several successful passes, but there are also instances of unsuccessful passes and losses of possession. Improving midfield control and maintaining possession could help dictate the tempo of the game.\n",
      "6. **Winger and Full-Back Coordination**: The wingers (e.g., Nicolas Pépé and Pierre-Emerick Aubameyang) and full-backs (e.g., Kieran Tierney) have made several successful passes and runs, but there could be more coordination and understanding between these players to create more scoring opportunities.\n",
      "7. **Transition Play**: The team has made several successful ball recoveries, but there is limited evidence of quick transitions from defense to attack. Improving transition play and counter-attacking could help catch the opposition off guard and create more scoring opportunities.\n",
      "\n",
      "To address these areas, the team could focus on:\n",
      "\n",
      "* Practicing finishing drills to improve goal-scoring abilities\n",
      "* Working on passing accuracy and precision, especially in the final third\n",
      "* Strengthening defensive drills to reduce vulnerabilities\n",
      "* Developing set piece routines and practicing them in training\n",
      "* Improving midfield control through possession-based drills and games\n",
      "* Enhancing coordination and understanding between wingers and full-backs through specific training exercises\n",
      "* Practicing transition play and counter-attacking through small-sided games and drills\n",
      "\n",
      "By addressing these areas, the team can improve their overall performance and increase their chances of winning matches.\n"
     ]
    }
   ],
   "source": [
    "print(response)"
   ]
  },
  {
   "cell_type": "code",
   "execution_count": null,
   "metadata": {},
   "outputs": [],
   "source": []
  }
 ],
 "metadata": {
  "kernelspec": {
   "display_name": "Python 3",
   "language": "python",
   "name": "python3"
  },
  "language_info": {
   "codemirror_mode": {
    "name": "ipython",
    "version": 3
   },
   "file_extension": ".py",
   "mimetype": "text/x-python",
   "name": "python",
   "nbconvert_exporter": "python",
   "pygments_lexer": "ipython3",
   "version": "3.11.0"
  }
 },
 "nbformat": 4,
 "nbformat_minor": 2
}
